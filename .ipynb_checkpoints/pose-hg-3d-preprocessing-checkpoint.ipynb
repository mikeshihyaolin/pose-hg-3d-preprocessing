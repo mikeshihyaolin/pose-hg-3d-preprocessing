{
 "cells": [
  {
   "cell_type": "code",
   "execution_count": 71,
   "metadata": {},
   "outputs": [
    {
     "name": "stdout",
     "output_type": "stream",
     "text": [
      "create foder: /Users/shihyaolin/Documents/data/scoliosis/cropped/20190730_0_5.walk/\n"
     ]
    }
   ],
   "source": [
    "import glob\n",
    "import argparse\n",
    "import numpy as np\n",
    "import os, sys\n",
    "from os import listdir, makedirs\n",
    "import shutil\n",
    "\n",
    "import h5py\n",
    "import io\n",
    "from PIL import Image\n",
    "\n",
    "POSDIM = 21\n",
    "FACEDIM = 70\n",
    "HANDDIM = 21\n",
    "\n",
    "def reset(reset_path):\n",
    "    path = reset_path\n",
    "    if os.path.isdir(path):\n",
    "        shutil.rmtree(path)\n",
    "        print(\"remove existing \"+path)\n",
    "        makedirs(path)\n",
    "        print(\"create folder: \"+path)\n",
    "    else:\n",
    "        makedirs(path)\n",
    "        print(\"create foder: \"+path)\n",
    "\n",
    "# data path\n",
    "img_h5 = \"/Users/shihyaolin/Documents/data/scoliosis/jpgs/20190730_0_5.walk_jpg.h5\"\n",
    "keypoint_h5 = \"/Users/shihyaolin/Documents/data/scoliosis/reid_kjsons/20190730_0_5.walk_reid_json.h5\"\n",
    "\n",
    "output = \"/Users/shihyaolin/Documents/data/scoliosis/cropped/20190730_0_5.walk/\"\n",
    "reset(output)\n"
   ]
  },
  {
   "cell_type": "code",
   "execution_count": 72,
   "metadata": {},
   "outputs": [
    {
     "name": "stdout",
     "output_type": "stream",
     "text": [
      "<KeysViewHDF5 ['binary_jpg']>\n",
      "<KeysViewHDF5 ['keypoint']>\n",
      "[[1.46323e+02 6.55830e+01 8.56680e-01]\n",
      " [1.69885e+02 8.28319e+01 7.37097e-01]\n",
      " [1.73040e+02 7.89309e+01 6.91392e-01]\n",
      " [1.77709e+02 1.11863e+02 1.71986e-01]\n",
      " [1.58122e+02 1.29873e+02 4.92142e-01]\n",
      " [1.65986e+02 8.51881e+01 8.65961e-01]\n",
      " [1.65932e+02 1.14201e+02 8.69350e-01]\n",
      " [1.39283e+02 1.22042e+02 8.56417e-01]\n",
      " [1.72243e+02 1.41661e+02 6.30139e-01]\n",
      " [1.73015e+02 1.41645e+02 5.11463e-01]\n",
      " [1.60482e+02 1.90239e+02 7.34559e-01]\n",
      " [1.68327e+02 2.35745e+02 7.87886e-01]\n",
      " [1.72213e+02 1.43213e+02 6.49746e-01]\n",
      " [1.64377e+02 1.91040e+02 7.66872e-01]\n",
      " [2.02022e+02 2.28682e+02 8.04118e-01]\n",
      " [0.00000e+00 0.00000e+00 0.00000e+00]\n",
      " [1.46354e+02 5.93478e+01 9.08115e-01]\n",
      " [0.00000e+00 0.00000e+00 0.00000e+00]\n",
      " [1.58903e+02 5.61888e+01 8.40618e-01]\n",
      " [1.93399e+02 2.47469e+02 7.94282e-01]\n",
      " [1.98899e+02 2.45167e+02 6.69482e-01]]\n"
     ]
    }
   ],
   "source": [
    "# show image\n",
    "f = h5py.File(img_h5, 'r')\n",
    "print(f.keys())\n",
    "imgs = f['binary_jpg']\n",
    "pil_img_obj = Image.open(io.BytesIO(imgs[0]))\n",
    "pil_img_obj.show()\n",
    "\n",
    "# show keypoint\n",
    "f = h5py.File(keypoint_h5, 'r')\n",
    "print(f.keys())\n",
    "keypoint = f['keypoint']\n",
    "print(keypoint[100][0:POSDIM])"
   ]
  },
  {
   "cell_type": "code",
   "execution_count": 74,
   "metadata": {},
   "outputs": [],
   "source": [
    "# load data\n",
    "f = h5py.File(img_h5, 'r')\n",
    "imgs = f['binary_jpg']\n",
    "\n",
    "for img in imgs:\n",
    "    pil_img_obj = Image.open(io.BytesIO(img))\n",
    "    pil_img_obj.show()\n",
    "\n",
    "# # show keypoint\n",
    "# f = h5py.File(keypoint_h5, 'r')\n",
    "# print(f.keys())\n",
    "# keypoint = f['keypoint']\n",
    "# print(keypoint[100][0:POSDIM])"
   ]
  },
  {
   "cell_type": "code",
   "execution_count": 31,
   "metadata": {},
   "outputs": [],
   "source": []
  },
  {
   "cell_type": "code",
   "execution_count": 32,
   "metadata": {},
   "outputs": [],
   "source": []
  },
  {
   "cell_type": "code",
   "execution_count": 34,
   "metadata": {},
   "outputs": [
    {
     "ename": "NameError",
     "evalue": "name 'img_path' is not defined",
     "output_type": "error",
     "traceback": [
      "\u001b[0;31m---------------------------------------------------------------------------\u001b[0m",
      "\u001b[0;31mNameError\u001b[0m                                 Traceback (most recent call last)",
      "\u001b[0;32m<ipython-input-34-af7bc2545cc7>\u001b[0m in \u001b[0;36m<module>\u001b[0;34m\u001b[0m\n\u001b[0;32m----> 1\u001b[0;31m \u001b[0mallimgs\u001b[0m \u001b[0;34m=\u001b[0m \u001b[0mget_all_imgs\u001b[0m\u001b[0;34m(\u001b[0m\u001b[0mimg_path\u001b[0m\u001b[0;34m)\u001b[0m\u001b[0;34m\u001b[0m\u001b[0;34m\u001b[0m\u001b[0m\n\u001b[0m\u001b[1;32m      2\u001b[0m \u001b[0mh\u001b[0m\u001b[0;34m,\u001b[0m \u001b[0mw\u001b[0m\u001b[0;34m,\u001b[0m \u001b[0mc\u001b[0m \u001b[0;34m=\u001b[0m \u001b[0mallimgs\u001b[0m\u001b[0;34m[\u001b[0m\u001b[0;36m0\u001b[0m\u001b[0;34m]\u001b[0m\u001b[0;34m.\u001b[0m\u001b[0mshape\u001b[0m\u001b[0;34m\u001b[0m\u001b[0;34m\u001b[0m\u001b[0m\n\u001b[1;32m      3\u001b[0m \u001b[0mprint\u001b[0m\u001b[0;34m(\u001b[0m\u001b[0mw\u001b[0m\u001b[0;34m)\u001b[0m\u001b[0;34m\u001b[0m\u001b[0;34m\u001b[0m\u001b[0m\n\u001b[1;32m      4\u001b[0m \u001b[0mprint\u001b[0m\u001b[0;34m(\u001b[0m\u001b[0mh\u001b[0m\u001b[0;34m)\u001b[0m\u001b[0;34m\u001b[0m\u001b[0;34m\u001b[0m\u001b[0m\n\u001b[1;32m      5\u001b[0m \u001b[0mprint\u001b[0m\u001b[0;34m(\u001b[0m\u001b[0;34m\"--------\"\u001b[0m\u001b[0;34m)\u001b[0m\u001b[0;34m\u001b[0m\u001b[0;34m\u001b[0m\u001b[0m\n",
      "\u001b[0;31mNameError\u001b[0m: name 'img_path' is not defined"
     ]
    }
   ],
   "source": []
  },
  {
   "cell_type": "code",
   "execution_count": 58,
   "metadata": {},
   "outputs": [
    {
     "name": "stdout",
     "output_type": "stream",
     "text": [
      "<KeysViewHDF5 ['binary_jpg']>\n"
     ]
    }
   ],
   "source": [
    "\n"
   ]
  },
  {
   "cell_type": "code",
   "execution_count": null,
   "metadata": {},
   "outputs": [],
   "source": []
  },
  {
   "cell_type": "code",
   "execution_count": null,
   "metadata": {},
   "outputs": [],
   "source": []
  }
 ],
 "metadata": {
  "kernelspec": {
   "display_name": "Python 3",
   "language": "python",
   "name": "python3"
  },
  "language_info": {
   "codemirror_mode": {
    "name": "ipython",
    "version": 3
   },
   "file_extension": ".py",
   "mimetype": "text/x-python",
   "name": "python",
   "nbconvert_exporter": "python",
   "pygments_lexer": "ipython3",
   "version": "3.6.7"
  }
 },
 "nbformat": 4,
 "nbformat_minor": 2
}
