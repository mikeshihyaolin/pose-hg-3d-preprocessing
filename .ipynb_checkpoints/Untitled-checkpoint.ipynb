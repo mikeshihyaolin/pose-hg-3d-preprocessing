{
 "cells": [
  {
   "cell_type": "code",
   "execution_count": 1,
   "metadata": {},
   "outputs": [
    {
     "name": "stdout",
     "output_type": "stream",
     "text": [
      "Keys: KeysView(<HDF5 file \"20190730_1_5.walk_jpg.h5keypoints.h5\" (mode r)>)\n",
      "[[-0.0625      0.390625   -0.03572922]\n",
      " [-0.015625    0.203125    0.02625256]\n",
      " [-0.015625    0.         -0.04284574]\n",
      " [ 0.          0.          0.0500319 ]\n",
      " [-0.015625    0.1875      0.13166085]\n",
      " [-0.046875    0.375       0.07117138]\n",
      " [ 0.          0.          0.        ]\n",
      " [ 0.015625   -0.21875    -0.02657305]\n",
      " [ 0.015625   -0.265625   -0.01883106]\n",
      " [ 0.078125   -0.40625    -0.0538458 ]\n",
      " [ 0.          0.046875   -0.09863494]\n",
      " [-0.03125    -0.09375    -0.07841741]\n",
      " [ 0.         -0.21875    -0.05507737]\n",
      " [ 0.03125    -0.21875     0.00936863]\n",
      " [ 0.         -0.09375     0.07766963]\n",
      " [ 0.03125     0.03125     0.09417506]]\n",
      "16\n",
      "[0, 1, 2, 3, 4, 5, 6, 7, 8, 9, 10, 11, 12, 13, 14, 15]\n"
     ]
    },
    {
     "data": {
      "text/plain": [
       "<Figure size 640x480 with 1 Axes>"
      ]
     },
     "metadata": {},
     "output_type": "display_data"
    }
   ],
   "source": [
    "# plot_3d_pose.py\n",
    "\n",
    "# keypoint parsing\n",
    "\n",
    "import h5py\n",
    "path = \"/Users/shihyaolin/Documents/data/scoliosis/3d_pose_res/\"\n",
    "filename = '20190730_1_5.walk_jpg.h5keypoints.h5'\n",
    "\n",
    "\n",
    "f = h5py.File(path+filename, 'r')\n",
    "\n",
    "# List all groups\n",
    "print(\"Keys: %s\" % f.keys())\n",
    "a_group_key = list(f.keys())[0]\n",
    "\n",
    "# Get the data\n",
    "data = list(f[a_group_key])\n",
    "print(data[0])\n",
    "\n",
    "print(len(data[0]))\n",
    "\n",
    "\n",
    "from mpl_toolkits.mplot3d import Axes3D\n",
    "import matplotlib.pyplot as plt\n",
    "import numpy as np\n",
    "import os\n",
    "\n",
    "\n",
    "# fig = plt.figure()\n",
    "# ax = plt.axes(projection='3d')\n",
    "fig=plt.figure(1)\n",
    "ax = fig.gca(projection='3d')\n",
    "\n",
    "labels = [x for x in range(0,16)]\n",
    "print(labels)\n",
    "\n",
    "for i, pt in enumerate(data[0]):\n",
    "\tprint(pt)\n",
    "\tx = [pt[0]]\n",
    "\ty = [pt[1]]\n",
    "\tz = [pt[2]]\n",
    "\tax.plot(x, y, z, 'bo')\n",
    "\tax.text(pt[0], pt[1], pt[2], \"%d\"%i, fontsize=12)\n",
    "\n",
    "# x = data[0][0,:]\n",
    "# y = data[0][1,:]\n",
    "# z = data[0][2,:]\n",
    "# ax.plot(x, y, z, 'bo')\n",
    "# # ax.text(x, y, z, labels, fontsize=12)\n",
    "# plt.show()\n"
   ]
  },
  {
   "cell_type": "code",
   "execution_count": null,
   "metadata": {},
   "outputs": [],
   "source": []
  }
 ],
 "metadata": {
  "kernelspec": {
   "display_name": "Python 3",
   "language": "python",
   "name": "python3"
  },
  "language_info": {
   "codemirror_mode": {
    "name": "ipython",
    "version": 3
   },
   "file_extension": ".py",
   "mimetype": "text/x-python",
   "name": "python",
   "nbconvert_exporter": "python",
   "pygments_lexer": "ipython3",
   "version": "3.7.0"
  }
 },
 "nbformat": 4,
 "nbformat_minor": 2
}
