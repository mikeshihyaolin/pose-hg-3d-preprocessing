{
 "cells": [
  {
   "cell_type": "code",
   "execution_count": 12,
   "metadata": {},
   "outputs": [
    {
     "name": "stdout",
     "output_type": "stream",
     "text": [
      "remove existing /Users/shihyaolin/Documents/data/scoliosis/cropped/20190730_0_5.walk/\n",
      "create folder: /Users/shihyaolin/Documents/data/scoliosis/cropped/20190730_0_5.walk/\n"
     ]
    }
   ],
   "source": [
    "import glob\n",
    "import argparse\n",
    "import numpy as np\n",
    "import os, sys\n",
    "from os import listdir, makedirs\n",
    "import shutil\n",
    "import cv2\n",
    "\n",
    "import h5py\n",
    "import io\n",
    "from PIL import Image\n",
    "\n",
    "POSDIM = 21\n",
    "FACEDIM = 70\n",
    "HANDDIM = 21\n",
    "\n",
    "def reset(reset_path):\n",
    "    path = reset_path\n",
    "    if os.path.isdir(path):\n",
    "        shutil.rmtree(path)\n",
    "        print(\"remove existing \"+path)\n",
    "        makedirs(path)\n",
    "        print(\"create folder: \"+path)\n",
    "    else:\n",
    "        makedirs(path)\n",
    "        print(\"create foder: \"+path)\n",
    "\n",
    "# data path\n",
    "img_h5 = \"/Users/shihyaolin/Documents/data/scoliosis/jpgs/20190730_0_5.walk_jpg.h5\"\n",
    "keypoint_h5 = \"/Users/shihyaolin/Documents/data/scoliosis/reid_kjsons/20190730_0_5.walk_reid_json.h5\"\n",
    "\n",
    "output = \"/Users/shihyaolin/Documents/data/scoliosis/cropped/20190730_0_5.walk/\"\n",
    "reset(output)\n"
   ]
  },
  {
   "cell_type": "code",
   "execution_count": 2,
   "metadata": {},
   "outputs": [
    {
     "name": "stdout",
     "output_type": "stream",
     "text": [
      "<KeysViewHDF5 ['binary_jpg']>\n",
      "<KeysViewHDF5 ['keypoint']>\n",
      "[[1.46323e+02 6.55830e+01 8.56680e-01]\n",
      " [1.69885e+02 8.28319e+01 7.37097e-01]\n",
      " [1.73040e+02 7.89309e+01 6.91392e-01]\n",
      " [1.77709e+02 1.11863e+02 1.71986e-01]\n",
      " [1.58122e+02 1.29873e+02 4.92142e-01]\n",
      " [1.65986e+02 8.51881e+01 8.65961e-01]\n",
      " [1.65932e+02 1.14201e+02 8.69350e-01]\n",
      " [1.39283e+02 1.22042e+02 8.56417e-01]\n",
      " [1.72243e+02 1.41661e+02 6.30139e-01]\n",
      " [1.73015e+02 1.41645e+02 5.11463e-01]\n",
      " [1.60482e+02 1.90239e+02 7.34559e-01]\n",
      " [1.68327e+02 2.35745e+02 7.87886e-01]\n",
      " [1.72213e+02 1.43213e+02 6.49746e-01]\n",
      " [1.64377e+02 1.91040e+02 7.66872e-01]\n",
      " [2.02022e+02 2.28682e+02 8.04118e-01]\n",
      " [0.00000e+00 0.00000e+00 0.00000e+00]\n",
      " [1.46354e+02 5.93478e+01 9.08115e-01]\n",
      " [0.00000e+00 0.00000e+00 0.00000e+00]\n",
      " [1.58903e+02 5.61888e+01 8.40618e-01]\n",
      " [1.93399e+02 2.47469e+02 7.94282e-01]\n",
      " [1.98899e+02 2.45167e+02 6.69482e-01]]\n"
     ]
    }
   ],
   "source": [
    "# show image\n",
    "f = h5py.File(img_h5, 'r')\n",
    "print(f.keys())\n",
    "imgs = f['binary_jpg']\n",
    "pil_img_obj = Image.open(io.BytesIO(imgs[0]))\n",
    "pil_img_obj.show()\n",
    "\n",
    "# show keypoint\n",
    "f = h5py.File(keypoint_h5, 'r')\n",
    "print(f.keys())\n",
    "keypoint = f['keypoint']\n",
    "print(keypoint[100][0:POSDIM])"
   ]
  },
  {
   "cell_type": "code",
   "execution_count": 86,
   "metadata": {},
   "outputs": [],
   "source": [
    "# load data\n",
    "f = h5py.File(img_h5, 'r')\n",
    "imgs = f['binary_jpg']\n",
    "\n",
    "img_list = []\n",
    "for i, img in enumerate(imgs):\n",
    "    pil_img = Image.open(io.BytesIO(img)).convert('RGB') \n",
    "    open_cv_image = np.array(pil_img) \n",
    "    # Convert RGB to BGR \n",
    "    open_cv_image = open_cv_image[:, :, ::-1].copy() \n",
    "    img_list.append(open_cv_image)\n",
    "\n",
    "\n",
    "# load keypoint\n",
    "f = h5py.File(keypoint_h5, 'r')\n",
    "keypoints = f['keypoint']\n",
    "\n",
    "keypoint_list = []\n",
    "\n",
    "for i, keypoint in enumerate(keypoints):\n",
    "    keypoint_list.append(keypoint)\n",
    "    \n"
   ]
  },
  {
   "cell_type": "code",
   "execution_count": 87,
   "metadata": {},
   "outputs": [
    {
     "name": "stdout",
     "output_type": "stream",
     "text": [
      "122\n",
      "288\n",
      "352\n"
     ]
    }
   ],
   "source": [
    "# plot center\n",
    "\n",
    "width = int(abs(keypoint_list[100][8][1]-keypoint_list[100][16][1]))+40\n",
    "\n",
    "print(width)\n",
    "\n",
    "cropped_img_list = []\n",
    "print(len(img_list[0]))\n",
    "print(len(img_list[0][1]))\n",
    "\n",
    "for i, img in enumerate(img_list):\n",
    "    center = (keypoint_list[i][8][0], keypoint_list[i][8][1])\n",
    "#     cv2.circle(img, center, 10, (0,255,0), -1)\n",
    "\n",
    "    x_0 = int(center[0]-width)\n",
    "    y_0 = int(center[1]-width)\n",
    "    x_1 = int(center[0]+width)\n",
    "    y_1 = int(center[1]+width)\n",
    "    \n",
    "    if x_0 >0 and x_1 < len(img[1]):\n",
    "        img2 = img[y_0:y_1, x_0:x_1]\n",
    "#         cv2.imshow(\"img\", img2)\n",
    "#         cv2.waitKey(1)\n",
    "        cv2.imwrite(output+\"/%04d.jpg\"%i,img2)\n",
    "        "
   ]
  },
  {
   "cell_type": "code",
   "execution_count": 82,
   "metadata": {},
   "outputs": [],
   "source": [
    "cv2.destroyAllWindows()"
   ]
  },
  {
   "cell_type": "code",
   "execution_count": null,
   "metadata": {},
   "outputs": [],
   "source": []
  },
  {
   "cell_type": "code",
   "execution_count": null,
   "metadata": {},
   "outputs": [],
   "source": [
    "\n"
   ]
  },
  {
   "cell_type": "code",
   "execution_count": null,
   "metadata": {},
   "outputs": [],
   "source": []
  },
  {
   "cell_type": "code",
   "execution_count": null,
   "metadata": {},
   "outputs": [],
   "source": []
  }
 ],
 "metadata": {
  "kernelspec": {
   "display_name": "Python 3",
   "language": "python",
   "name": "python3"
  },
  "language_info": {
   "codemirror_mode": {
    "name": "ipython",
    "version": 3
   },
   "file_extension": ".py",
   "mimetype": "text/x-python",
   "name": "python",
   "nbconvert_exporter": "python",
   "pygments_lexer": "ipython3",
   "version": "3.6.7"
  }
 },
 "nbformat": 4,
 "nbformat_minor": 2
}
